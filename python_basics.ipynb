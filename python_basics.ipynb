{
  "nbformat": 4,
  "nbformat_minor": 0,
  "metadata": {
    "colab": {
      "name": "python_basics.ipynb",
      "version": "0.3.2",
      "provenance": [],
      "include_colab_link": true
    },
    "kernelspec": {
      "name": "python3",
      "display_name": "Python 3"
    }
  },
  "cells": [
    {
      "cell_type": "markdown",
      "metadata": {
        "id": "view-in-github",
        "colab_type": "text"
      },
      "source": [
        "<a href=\"https://colab.research.google.com/github/xiaobo-fu/python_for_finance/blob/master/python_basics.ipynb\" target=\"_parent\"><img src=\"https://colab.research.google.com/assets/colab-badge.svg\" alt=\"Open In Colab\"/></a>"
      ]
    },
    {
      "cell_type": "code",
      "metadata": {
        "id": "tFSEo9QlXxro",
        "colab_type": "code",
        "colab": {}
      },
      "source": [
        "import random\n",
        "import numpy as np"
      ],
      "execution_count": 0,
      "outputs": []
    },
    {
      "cell_type": "code",
      "metadata": {
        "id": "1izpSujYYJBx",
        "colab_type": "code",
        "colab": {}
      },
      "source": [
        "I = 5000"
      ],
      "execution_count": 0,
      "outputs": []
    },
    {
      "cell_type": "code",
      "metadata": {
        "id": "8R2pSJ6CYfGC",
        "colab_type": "code",
        "outputId": "b9b914db-3143-4593-d483-655a13ac4826",
        "colab": {
          "base_uri": "https://localhost:8080/",
          "height": 52
        }
      },
      "source": [
        "%time mat = [[random.gauss(0, 1) for j in range(I)] \\\n",
        "    for i in range(I)]"
      ],
      "execution_count": 3,
      "outputs": [
        {
          "output_type": "stream",
          "text": [
            "CPU times: user 19.4 s, sys: 714 ms, total: 20.1 s\n",
            "Wall time: 20.1 s\n"
          ],
          "name": "stdout"
        }
      ]
    },
    {
      "cell_type": "code",
      "metadata": {
        "id": "Z_oMd26gYocw",
        "colab_type": "code",
        "outputId": "471396d3-0089-4639-c590-679273977763",
        "colab": {
          "base_uri": "https://localhost:8080/",
          "height": 69
        }
      },
      "source": [
        "%time sum([sum(l) for l in mat])"
      ],
      "execution_count": 4,
      "outputs": [
        {
          "output_type": "stream",
          "text": [
            "CPU times: user 223 ms, sys: 2.17 ms, total: 225 ms\n",
            "Wall time: 225 ms\n"
          ],
          "name": "stdout"
        },
        {
          "output_type": "execute_result",
          "data": {
            "text/plain": [
              "17.212508866247294"
            ]
          },
          "metadata": {
            "tags": []
          },
          "execution_count": 4
        }
      ]
    },
    {
      "cell_type": "code",
      "metadata": {
        "id": "Ex_Imtm2ZlTD",
        "colab_type": "code",
        "outputId": "b8a3bfce-2b9a-4097-e776-93d3864708db",
        "colab": {
          "base_uri": "https://localhost:8080/",
          "height": 35
        }
      },
      "source": [
        "import sys\n",
        "sum([sys.getsizeof(l) for l in mat])"
      ],
      "execution_count": 5,
      "outputs": [
        {
          "output_type": "execute_result",
          "data": {
            "text/plain": [
              "215200000"
            ]
          },
          "metadata": {
            "tags": []
          },
          "execution_count": 5
        }
      ]
    },
    {
      "cell_type": "code",
      "metadata": {
        "id": "rvtHvLSPZ1Ob",
        "colab_type": "code",
        "outputId": "616a6c4f-17c0-4093-80e5-a5bfe768289d",
        "colab": {
          "base_uri": "https://localhost:8080/",
          "height": 52
        }
      },
      "source": [
        "%time mat = np.random.standard_normal((I, I))"
      ],
      "execution_count": 6,
      "outputs": [
        {
          "output_type": "stream",
          "text": [
            "CPU times: user 1.47 s, sys: 248 ms, total: 1.72 s\n",
            "Wall time: 1.72 s\n"
          ],
          "name": "stdout"
        }
      ]
    },
    {
      "cell_type": "code",
      "metadata": {
        "id": "tjV_gLtoZ4Zd",
        "colab_type": "code",
        "outputId": "df10e4d9-1259-4ad9-bd20-9ca8711a060c",
        "colab": {
          "base_uri": "https://localhost:8080/",
          "height": 69
        }
      },
      "source": [
        "%time mat.sum()"
      ],
      "execution_count": 7,
      "outputs": [
        {
          "output_type": "stream",
          "text": [
            "CPU times: user 26.1 ms, sys: 894 µs, total: 27 ms\n",
            "Wall time: 32.6 ms\n"
          ],
          "name": "stdout"
        },
        {
          "output_type": "execute_result",
          "data": {
            "text/plain": [
              "292.46813406767836"
            ]
          },
          "metadata": {
            "tags": []
          },
          "execution_count": 7
        }
      ]
    },
    {
      "cell_type": "code",
      "metadata": {
        "id": "sAADo6JsceGT",
        "colab_type": "code",
        "colab": {}
      },
      "source": [
        "dt = np.dtype([('Name', 'S10'), ('Age', 'i4'),\n",
        "    ('Height', 'f'), ('Children/Pets', 'i4', 2)])"
      ],
      "execution_count": 0,
      "outputs": []
    },
    {
      "cell_type": "code",
      "metadata": {
        "id": "Z9m7acZcc5vX",
        "colab_type": "code",
        "colab": {}
      },
      "source": [
        "dt = np.dtype({'names': ['Name', 'Age', 'Height', 'Children/Pets'],\n",
        "'formats':'O int float int,int'.split()})"
      ],
      "execution_count": 0,
      "outputs": []
    },
    {
      "cell_type": "code",
      "metadata": {
        "id": "t3qQ5XQ8dNMy",
        "colab_type": "code",
        "outputId": "87dde5f3-e852-4a60-a4df-9b67246eb036",
        "colab": {
          "base_uri": "https://localhost:8080/",
          "height": 55
        }
      },
      "source": [
        "dt"
      ],
      "execution_count": 10,
      "outputs": [
        {
          "output_type": "execute_result",
          "data": {
            "text/plain": [
              "dtype([('Name', 'O'), ('Age', '<i8'), ('Height', '<f8'), ('Children/Pets', [('f0', '<i8'), ('f1', '<i8')])])"
            ]
          },
          "metadata": {
            "tags": []
          },
          "execution_count": 10
        }
      ]
    },
    {
      "cell_type": "code",
      "metadata": {
        "id": "UwphO4Fsce7Y",
        "colab_type": "code",
        "colab": {}
      },
      "source": [
        "s = np.array([('Smith', 45, 1.83, (0, 1)),\n",
        "('Jones', 53, 1.72, (2, 2))], dtype=dt)"
      ],
      "execution_count": 0,
      "outputs": []
    },
    {
      "cell_type": "code",
      "metadata": {
        "id": "1t3zK_WHdyOh",
        "colab_type": "code",
        "outputId": "21ded123-88b9-480e-d95e-159e86e8c37e",
        "colab": {
          "base_uri": "https://localhost:8080/",
          "height": 72
        }
      },
      "source": [
        "s"
      ],
      "execution_count": 12,
      "outputs": [
        {
          "output_type": "execute_result",
          "data": {
            "text/plain": [
              "array([('Smith', 45, 1.83, (0, 1)), ('Jones', 53, 1.72, (2, 2))],\n",
              "      dtype=[('Name', 'O'), ('Age', '<i8'), ('Height', '<f8'), ('Children/Pets', [('f0', '<i8'), ('f1', '<i8')])])"
            ]
          },
          "metadata": {
            "tags": []
          },
          "execution_count": 12
        }
      ]
    },
    {
      "cell_type": "code",
      "metadata": {
        "id": "gImt-Xhtd8Gz",
        "colab_type": "code",
        "outputId": "e269c87a-298b-471e-fd9d-0895fda60559",
        "colab": {
          "base_uri": "https://localhost:8080/",
          "height": 35
        }
      },
      "source": [
        "s['Name']"
      ],
      "execution_count": 13,
      "outputs": [
        {
          "output_type": "execute_result",
          "data": {
            "text/plain": [
              "array(['Smith', 'Jones'], dtype=object)"
            ]
          },
          "metadata": {
            "tags": []
          },
          "execution_count": 13
        }
      ]
    },
    {
      "cell_type": "code",
      "metadata": {
        "id": "IA6-PzPTd-Bh",
        "colab_type": "code",
        "colab": {}
      },
      "source": [
        "s = np.arange(12).reshape((4,3))"
      ],
      "execution_count": 0,
      "outputs": []
    },
    {
      "cell_type": "code",
      "metadata": {
        "id": "RQvpJKlYf6xP",
        "colab_type": "code",
        "outputId": "85563a71-3dc2-4480-9bf1-60b42d8f2508",
        "colab": {
          "base_uri": "https://localhost:8080/",
          "height": 35
        }
      },
      "source": [
        "r = np.arange(4).reshape(4,1).T\n",
        "r"
      ],
      "execution_count": 15,
      "outputs": [
        {
          "output_type": "execute_result",
          "data": {
            "text/plain": [
              "array([[0, 1, 2, 3]])"
            ]
          },
          "metadata": {
            "tags": []
          },
          "execution_count": 15
        }
      ]
    },
    {
      "cell_type": "code",
      "metadata": {
        "id": "31swsd8rgjRg",
        "colab_type": "code",
        "outputId": "cf86e4e3-7e17-4f03-8487-e2dd1c453dd4",
        "colab": {
          "base_uri": "https://localhost:8080/",
          "height": 86
        }
      },
      "source": [
        "s"
      ],
      "execution_count": 16,
      "outputs": [
        {
          "output_type": "execute_result",
          "data": {
            "text/plain": [
              "array([[ 0,  1,  2],\n",
              "       [ 3,  4,  5],\n",
              "       [ 6,  7,  8],\n",
              "       [ 9, 10, 11]])"
            ]
          },
          "metadata": {
            "tags": []
          },
          "execution_count": 16
        }
      ]
    },
    {
      "cell_type": "code",
      "metadata": {
        "id": "WRjRCcNAgkTQ",
        "colab_type": "code",
        "outputId": "e2f24e9e-edcc-4be5-9058-c0eea336bef1",
        "colab": {
          "base_uri": "https://localhost:8080/",
          "height": 165
        }
      },
      "source": [
        "s*r"
      ],
      "execution_count": 17,
      "outputs": [
        {
          "output_type": "error",
          "ename": "ValueError",
          "evalue": "ignored",
          "traceback": [
            "\u001b[0;31m---------------------------------------------------------------------------\u001b[0m",
            "\u001b[0;31mValueError\u001b[0m                                Traceback (most recent call last)",
            "\u001b[0;32m<ipython-input-17-162bc4ca338b>\u001b[0m in \u001b[0;36m<module>\u001b[0;34m()\u001b[0m\n\u001b[0;32m----> 1\u001b[0;31m \u001b[0ms\u001b[0m\u001b[0;34m*\u001b[0m\u001b[0mr\u001b[0m\u001b[0;34m\u001b[0m\u001b[0;34m\u001b[0m\u001b[0m\n\u001b[0m",
            "\u001b[0;31mValueError\u001b[0m: operands could not be broadcast together with shapes (4,3) (1,4) "
          ]
        }
      ]
    },
    {
      "cell_type": "code",
      "metadata": {
        "id": "ZtT3GamwhbKh",
        "colab_type": "code",
        "colab": {}
      },
      "source": [
        "x = np.random.standard_normal((1000000, 5))\n",
        "y = 2 * x + 3\n",
        "C = np.array((x, y), order='C')\n",
        "F = np.array((x, y), order='F')"
      ],
      "execution_count": 0,
      "outputs": []
    },
    {
      "cell_type": "code",
      "metadata": {
        "id": "P9aXP9Yzhem8",
        "colab_type": "code",
        "colab": {}
      },
      "source": [
        "x = np.array([[1,2,3],[3,6,9]])\n",
        "y = 2 * x + 3\n",
        "C = np.array((x, y), order='C')\n",
        "F = np.array((x, y), order='F')"
      ],
      "execution_count": 0,
      "outputs": []
    },
    {
      "cell_type": "code",
      "metadata": {
        "id": "cEAOzxS2iFxG",
        "colab_type": "code",
        "colab": {}
      },
      "source": [
        "x"
      ],
      "execution_count": 0,
      "outputs": []
    },
    {
      "cell_type": "code",
      "metadata": {
        "id": "h4YXapVbiKOZ",
        "colab_type": "code",
        "colab": {}
      },
      "source": [
        "y"
      ],
      "execution_count": 0,
      "outputs": []
    },
    {
      "cell_type": "code",
      "metadata": {
        "id": "psjurvMziK3N",
        "colab_type": "code",
        "colab": {}
      },
      "source": [
        "F"
      ],
      "execution_count": 0,
      "outputs": []
    },
    {
      "cell_type": "code",
      "metadata": {
        "id": "Px8nEVGxjAwv",
        "colab_type": "code",
        "colab": {}
      },
      "source": [
        "import pandas as pd\n",
        "df = pd.DataFrame([10, 20, 30, 40],\n",
        "columns=['numbers'],\n",
        "index=['a', 'b', 'c', 'd'])"
      ],
      "execution_count": 0,
      "outputs": []
    },
    {
      "cell_type": "code",
      "metadata": {
        "id": "LEtO6YkJjCed",
        "colab_type": "code",
        "colab": {}
      },
      "source": [
        "df['floats']=(1.5,2.5,3.5,4.5)"
      ],
      "execution_count": 0,
      "outputs": []
    },
    {
      "cell_type": "code",
      "metadata": {
        "id": "RdE1oiLQjunH",
        "colab_type": "code",
        "colab": {}
      },
      "source": [
        "df"
      ],
      "execution_count": 0,
      "outputs": []
    },
    {
      "cell_type": "code",
      "metadata": {
        "id": "NnCa2xwdlb9O",
        "colab_type": "code",
        "colab": {}
      },
      "source": [
        "a = np.arange(36).reshape((9,4))"
      ],
      "execution_count": 0,
      "outputs": []
    },
    {
      "cell_type": "code",
      "metadata": {
        "id": "USkXHRxLl7iM",
        "colab_type": "code",
        "colab": {}
      },
      "source": [
        "df = pd.DataFrame(a)"
      ],
      "execution_count": 0,
      "outputs": []
    },
    {
      "cell_type": "code",
      "metadata": {
        "id": "rs-se3PMmH2Y",
        "colab_type": "code",
        "colab": {}
      },
      "source": [
        "df"
      ],
      "execution_count": 0,
      "outputs": []
    },
    {
      "cell_type": "code",
      "metadata": {
        "id": "ClKYaP79mKJ4",
        "colab_type": "code",
        "colab": {}
      },
      "source": [
        "df[2].mean()"
      ],
      "execution_count": 0,
      "outputs": []
    },
    {
      "cell_type": "code",
      "metadata": {
        "id": "YTHTDdAEmYZU",
        "colab_type": "code",
        "colab": {}
      },
      "source": [
        "dates = pd.date_range('2020-12-1', periods=9, freq='C')\n",
        "dates"
      ],
      "execution_count": 0,
      "outputs": []
    },
    {
      "cell_type": "code",
      "metadata": {
        "id": "vPGpI4Fjm2a-",
        "colab_type": "code",
        "colab": {}
      },
      "source": [
        "df.index = dates"
      ],
      "execution_count": 0,
      "outputs": []
    },
    {
      "cell_type": "code",
      "metadata": {
        "id": "tOY_w11am5FT",
        "colab_type": "code",
        "colab": {}
      },
      "source": [
        "df"
      ],
      "execution_count": 0,
      "outputs": []
    },
    {
      "cell_type": "code",
      "metadata": {
        "id": "vM7sGYf7qZCh",
        "colab_type": "code",
        "colab": {}
      },
      "source": [
        "from pylab import plt,mpl\n",
        "plt.style.use('seaborn')\n",
        "mpl.rcParams['font.family'] = 'serif'\n",
        "%matplotlib inline"
      ],
      "execution_count": 0,
      "outputs": []
    },
    {
      "cell_type": "code",
      "metadata": {
        "id": "IyaMnJxHqtyv",
        "colab_type": "code",
        "colab": {}
      },
      "source": [
        "df.plot(lw=2.0, figsize=(5, 5));"
      ],
      "execution_count": 0,
      "outputs": []
    },
    {
      "cell_type": "code",
      "metadata": {
        "id": "aG76em1SrEoY",
        "colab_type": "code",
        "colab": {}
      },
      "source": [
        "df.plot.bar(figsize=(10, 6), rot=10);"
      ],
      "execution_count": 0,
      "outputs": []
    },
    {
      "cell_type": "code",
      "metadata": {
        "id": "bctT6AIFvQms",
        "colab_type": "code",
        "colab": {}
      },
      "source": [
        "df['Quarter'] = ['Q1', 'Q1', 'Q1', 'Q2', 'Q2',\n",
        "'Q2', 'Q3', 'Q3', 'Q3']\n",
        "df"
      ],
      "execution_count": 0,
      "outputs": []
    },
    {
      "cell_type": "code",
      "metadata": {
        "id": "85foLnLOvZed",
        "colab_type": "code",
        "colab": {}
      },
      "source": [
        "groups = df.groupby('Quarter')"
      ],
      "execution_count": 0,
      "outputs": []
    },
    {
      "cell_type": "code",
      "metadata": {
        "id": "3BLYX02svaiJ",
        "colab_type": "code",
        "colab": {}
      },
      "source": [
        "groups.mean()"
      ],
      "execution_count": 0,
      "outputs": []
    },
    {
      "cell_type": "code",
      "metadata": {
        "id": "1pdLx-0hw-UY",
        "colab_type": "code",
        "colab": {}
      },
      "source": [
        "groups.max()"
      ],
      "execution_count": 0,
      "outputs": []
    },
    {
      "cell_type": "code",
      "metadata": {
        "id": "oBehe7lhxE10",
        "colab_type": "code",
        "colab": {}
      },
      "source": [
        "groups.aggregate([min, max])"
      ],
      "execution_count": 0,
      "outputs": []
    },
    {
      "cell_type": "code",
      "metadata": {
        "id": "VnslNYEkxSAu",
        "colab_type": "code",
        "colab": {}
      },
      "source": [
        "df['Odd_Even'] = np.where(df.index.day %2 == 0,'even','odd')"
      ],
      "execution_count": 0,
      "outputs": []
    },
    {
      "cell_type": "code",
      "metadata": {
        "id": "NbLbI0O7xqU-",
        "colab_type": "code",
        "colab": {}
      },
      "source": [
        "df"
      ],
      "execution_count": 0,
      "outputs": []
    },
    {
      "cell_type": "code",
      "metadata": {
        "id": "koKH1ueuzKOE",
        "colab_type": "code",
        "colab": {}
      },
      "source": [
        "groups = df.groupby(['Quarter', 'Odd_Even'])"
      ],
      "execution_count": 0,
      "outputs": []
    },
    {
      "cell_type": "code",
      "metadata": {
        "id": "OMZLadIazSEP",
        "colab_type": "code",
        "colab": {}
      },
      "source": [
        "groups.size()"
      ],
      "execution_count": 0,
      "outputs": []
    },
    {
      "cell_type": "code",
      "metadata": {
        "id": "pQGLLWcUzmuu",
        "colab_type": "code",
        "colab": {}
      },
      "source": [
        "groups[['No1', 'No4']].aggregate([sum, np.mean])"
      ],
      "execution_count": 0,
      "outputs": []
    },
    {
      "cell_type": "code",
      "metadata": {
        "id": "_usDTBQCz8Mb",
        "colab_type": "code",
        "colab": {}
      },
      "source": [
        "data = np.random.standard_normal((10, 2))\n",
        "data"
      ],
      "execution_count": 0,
      "outputs": []
    },
    {
      "cell_type": "code",
      "metadata": {
        "id": "eaz8MHd90Q3u",
        "colab_type": "code",
        "colab": {}
      },
      "source": [
        "df = pd.DataFrame(data, columns=['x', 'y'])"
      ],
      "execution_count": 0,
      "outputs": []
    },
    {
      "cell_type": "code",
      "metadata": {
        "id": "XstlvqTq0Lhd",
        "colab_type": "code",
        "colab": {}
      },
      "source": [
        "df"
      ],
      "execution_count": 0,
      "outputs": []
    },
    {
      "cell_type": "code",
      "metadata": {
        "id": "rrmKNYDm0bwW",
        "colab_type": "code",
        "colab": {}
      },
      "source": [
        "df['x']>0.5"
      ],
      "execution_count": 0,
      "outputs": []
    },
    {
      "cell_type": "code",
      "metadata": {
        "id": "1UOIUPLf0iE0",
        "colab_type": "code",
        "colab": {}
      },
      "source": [
        "(df['x'] > 0) & (df['y'] < 0)"
      ],
      "execution_count": 0,
      "outputs": []
    },
    {
      "cell_type": "code",
      "metadata": {
        "id": "tXHr9Bg408_J",
        "colab_type": "code",
        "colab": {}
      },
      "source": [
        "df > 0"
      ],
      "execution_count": 0,
      "outputs": []
    },
    {
      "cell_type": "code",
      "metadata": {
        "id": "kcj0wgqv0_cT",
        "colab_type": "code",
        "colab": {}
      },
      "source": [
        "df[(df>0)]"
      ],
      "execution_count": 0,
      "outputs": []
    },
    {
      "cell_type": "code",
      "metadata": {
        "id": "kBAX91PTBEdh",
        "colab_type": "code",
        "colab": {}
      },
      "source": [
        "df1 = pd.DataFrame(['100', '200', '300', '400'],\n",
        "index=['a', 'b', 'c', 'd'],\n",
        "columns=['A',])"
      ],
      "execution_count": 0,
      "outputs": []
    },
    {
      "cell_type": "code",
      "metadata": {
        "id": "KoXQKwJ8BIEz",
        "colab_type": "code",
        "colab": {}
      },
      "source": [
        "df2 = pd.DataFrame(['200', '150', '50'],\n",
        "index=['f', 'b', 'd'],\n",
        "columns=['B',])"
      ],
      "execution_count": 0,
      "outputs": []
    },
    {
      "cell_type": "code",
      "metadata": {
        "id": "VEKpgoLVBI6v",
        "colab_type": "code",
        "colab": {}
      },
      "source": [
        "df1.append(df2, sort=0)"
      ],
      "execution_count": 0,
      "outputs": []
    },
    {
      "cell_type": "code",
      "metadata": {
        "id": "sqVFnUlqBJx7",
        "colab_type": "code",
        "colab": {}
      },
      "source": [
        "df1.append(df2, ignore_index=True, sort=False)"
      ],
      "execution_count": 0,
      "outputs": []
    },
    {
      "cell_type": "code",
      "metadata": {
        "id": "9b3BQvwcCBWI",
        "colab_type": "code",
        "colab": {}
      },
      "source": [
        "df1.join(df2)"
      ],
      "execution_count": 0,
      "outputs": []
    },
    {
      "cell_type": "code",
      "metadata": {
        "id": "cF7bK6-8CFbF",
        "colab_type": "code",
        "colab": {}
      },
      "source": [
        "df2.join(df1)"
      ],
      "execution_count": 0,
      "outputs": []
    },
    {
      "cell_type": "code",
      "metadata": {
        "id": "VW2NKf1ICNxz",
        "colab_type": "code",
        "colab": {}
      },
      "source": [
        "df1.join(df2, how='left')"
      ],
      "execution_count": 0,
      "outputs": []
    },
    {
      "cell_type": "code",
      "metadata": {
        "id": "swwoRaVOCSk5",
        "colab_type": "code",
        "colab": {}
      },
      "source": [
        "df1.join(df2, how='right')"
      ],
      "execution_count": 0,
      "outputs": []
    },
    {
      "cell_type": "code",
      "metadata": {
        "id": "m1_ftWLeCSnu",
        "colab_type": "code",
        "colab": {}
      },
      "source": [
        "df1.join(df2, how='inner')"
      ],
      "execution_count": 0,
      "outputs": []
    },
    {
      "cell_type": "code",
      "metadata": {
        "id": "80aBqVZlCSqd",
        "colab_type": "code",
        "colab": {}
      },
      "source": [
        "df1.join(df2, how='outer')"
      ],
      "execution_count": 0,
      "outputs": []
    },
    {
      "cell_type": "code",
      "metadata": {
        "id": "_NMcVN26DIHT",
        "colab_type": "code",
        "colab": {}
      },
      "source": [
        "df = pd.DataFrame()\n",
        "df['A'] = df1['A']\n",
        "df"
      ],
      "execution_count": 0,
      "outputs": []
    },
    {
      "cell_type": "code",
      "metadata": {
        "id": "NP3tzwNoDWVZ",
        "colab_type": "code",
        "colab": {}
      },
      "source": [
        "df['B'] = df2['B']\n",
        "df"
      ],
      "execution_count": 0,
      "outputs": []
    },
    {
      "cell_type": "code",
      "metadata": {
        "id": "l_UvwGYiDf-g",
        "colab_type": "code",
        "colab": {}
      },
      "source": [
        "df = pd.DataFrame({'A':df1['A'],'B':df2['B']})\n",
        "df"
      ],
      "execution_count": 0,
      "outputs": []
    },
    {
      "cell_type": "code",
      "metadata": {
        "id": "G3FeeYyDD28O",
        "colab_type": "code",
        "colab": {}
      },
      "source": [
        "c = pd.Series([250, 150, 50], index=['b', 'd', 'c'])\n",
        "df1['C'] = c\n",
        "df2['C'] = c"
      ],
      "execution_count": 0,
      "outputs": []
    },
    {
      "cell_type": "code",
      "metadata": {
        "id": "y5M0719tD5mD",
        "colab_type": "code",
        "colab": {}
      },
      "source": [
        "df1"
      ],
      "execution_count": 0,
      "outputs": []
    },
    {
      "cell_type": "code",
      "metadata": {
        "id": "Izvhf3dBD7Ex",
        "colab_type": "code",
        "colab": {}
      },
      "source": [
        "df2"
      ],
      "execution_count": 0,
      "outputs": []
    },
    {
      "cell_type": "code",
      "metadata": {
        "id": "N9VqUI1X53wU",
        "colab_type": "code",
        "colab": {}
      },
      "source": [
        "class HumanBeing(object):\n",
        "    def __init__(self,first_name, eye_color):\n",
        "        self.first_name = first_name\n",
        "        self.eye_color = eye_color\n",
        "        self.position = 0\n",
        "    def walk_steps(self, steps):\n",
        "        self.position += steps"
      ],
      "execution_count": 0,
      "outputs": []
    },
    {
      "cell_type": "code",
      "metadata": {
        "id": "lhXQj9ot6Y5A",
        "colab_type": "code",
        "colab": {
          "base_uri": "https://localhost:8080/",
          "height": 35
        },
        "outputId": "e4f76a46-3e98-41c5-9083-0ca85333c695"
      },
      "source": [
        "Sandra = HumanBeing('Sandra', 'blue')\n",
        "Sandra.position"
      ],
      "execution_count": 21,
      "outputs": [
        {
          "output_type": "execute_result",
          "data": {
            "text/plain": [
              "0"
            ]
          },
          "metadata": {
            "tags": []
          },
          "execution_count": 21
        }
      ]
    },
    {
      "cell_type": "code",
      "metadata": {
        "id": "IqIVdTPT6p5i",
        "colab_type": "code",
        "colab": {
          "base_uri": "https://localhost:8080/",
          "height": 35
        },
        "outputId": "be293533-7ac9-4a02-d8b8-5c4deac06f93"
      },
      "source": [
        "Sandra.walk_steps(5)\n",
        "Sandra.position"
      ],
      "execution_count": 22,
      "outputs": [
        {
          "output_type": "execute_result",
          "data": {
            "text/plain": [
              "5"
            ]
          },
          "metadata": {
            "tags": []
          },
          "execution_count": 22
        }
      ]
    },
    {
      "cell_type": "code",
      "metadata": {
        "id": "y0Ez4SU77IAN",
        "colab_type": "code",
        "colab": {}
      },
      "source": [
        "Sandra.position = 10"
      ],
      "execution_count": 0,
      "outputs": []
    },
    {
      "cell_type": "code",
      "metadata": {
        "id": "JnRTSjB77Kob",
        "colab_type": "code",
        "colab": {
          "base_uri": "https://localhost:8080/",
          "height": 35
        },
        "outputId": "413d55b0-04c4-4832-ef50-f510855d8c77"
      },
      "source": [
        "Sandra.position"
      ],
      "execution_count": 24,
      "outputs": [
        {
          "output_type": "execute_result",
          "data": {
            "text/plain": [
              "10"
            ]
          },
          "metadata": {
            "tags": []
          },
          "execution_count": 24
        }
      ]
    },
    {
      "cell_type": "code",
      "metadata": {
        "id": "LpmcUHum7xZ5",
        "colab_type": "code",
        "colab": {}
      },
      "source": [
        "class FinancialInstrument(object):\n",
        "    def __init__(self, symbol, price):\n",
        "        self.symbol = symbol\n",
        "        self.__price = price\n",
        "    def get_price(self):\n",
        "        return self.__price\n",
        "    def set_price(self, price):\n",
        "        self.__price = price"
      ],
      "execution_count": 0,
      "outputs": []
    },
    {
      "cell_type": "code",
      "metadata": {
        "id": "s1xtj43C8tIl",
        "colab_type": "code",
        "colab": {}
      },
      "source": [
        "fi = FinancialInstrument('AAPL', 100)"
      ],
      "execution_count": 0,
      "outputs": []
    },
    {
      "cell_type": "code",
      "metadata": {
        "id": "4Hvqdxbi8uaW",
        "colab_type": "code",
        "colab": {
          "base_uri": "https://localhost:8080/",
          "height": 35
        },
        "outputId": "42d7c963-6386-4a16-889b-1e8d31597897"
      },
      "source": [
        "fi"
      ],
      "execution_count": 32,
      "outputs": [
        {
          "output_type": "execute_result",
          "data": {
            "text/plain": [
              "<__main__.FinancialInstrument at 0x7f94bf64d0b8>"
            ]
          },
          "metadata": {
            "tags": []
          },
          "execution_count": 32
        }
      ]
    },
    {
      "cell_type": "code",
      "metadata": {
        "id": "kr62CYah9b38",
        "colab_type": "code",
        "colab": {}
      },
      "source": [
        "class PortfolioPosition(object):\n",
        "    def __init__(self, financial_instrument, position_size):\n",
        "        self.position = financial_instrument\n",
        "        self.__position_size = position_size\n",
        "    def get_position_size(self):\n",
        "        return self.__position_size\n",
        "    def update_position_size(self, position_size):\n",
        "        self.__position_size = position_size\n",
        "    def get_position_value(self):\n",
        "        return self.__position_size * \\\n",
        "               self.position.get_price()"
      ],
      "execution_count": 0,
      "outputs": []
    },
    {
      "cell_type": "code",
      "metadata": {
        "id": "EIy1RgI9-UXf",
        "colab_type": "code",
        "colab": {}
      },
      "source": [
        "pp = PortfolioPosition(fi,10)"
      ],
      "execution_count": 0,
      "outputs": []
    },
    {
      "cell_type": "code",
      "metadata": {
        "id": "b7s330do-ZaE",
        "colab_type": "code",
        "colab": {
          "base_uri": "https://localhost:8080/",
          "height": 35
        },
        "outputId": "4eb59a02-2b5c-46b1-faa2-dd3d080a2550"
      },
      "source": [
        "pp.get_position_size()"
      ],
      "execution_count": 35,
      "outputs": [
        {
          "output_type": "execute_result",
          "data": {
            "text/plain": [
              "10"
            ]
          },
          "metadata": {
            "tags": []
          },
          "execution_count": 35
        }
      ]
    },
    {
      "cell_type": "code",
      "metadata": {
        "id": "gDOPEkPQ-hzh",
        "colab_type": "code",
        "colab": {
          "base_uri": "https://localhost:8080/",
          "height": 35
        },
        "outputId": "0f500bb6-4ae9-46d2-e6dd-80ebf6d4dd77"
      },
      "source": [
        "pp.get_position_value()"
      ],
      "execution_count": 36,
      "outputs": [
        {
          "output_type": "execute_result",
          "data": {
            "text/plain": [
              "1000"
            ]
          },
          "metadata": {
            "tags": []
          },
          "execution_count": 36
        }
      ]
    },
    {
      "cell_type": "code",
      "metadata": {
        "id": "Aqosp6Fm-mSh",
        "colab_type": "code",
        "colab": {
          "base_uri": "https://localhost:8080/",
          "height": 35
        },
        "outputId": "c0d24954-c0e0-4ade-dacd-9af076172034"
      },
      "source": [
        "pp.position.get_price()"
      ],
      "execution_count": 37,
      "outputs": [
        {
          "output_type": "execute_result",
          "data": {
            "text/plain": [
              "100"
            ]
          },
          "metadata": {
            "tags": []
          },
          "execution_count": 37
        }
      ]
    },
    {
      "cell_type": "code",
      "metadata": {
        "id": "4UBU4cmT-qyy",
        "colab_type": "code",
        "colab": {}
      },
      "source": [
        "pp.position.set_price(105)"
      ],
      "execution_count": 0,
      "outputs": []
    },
    {
      "cell_type": "code",
      "metadata": {
        "id": "54YCD1c1-ujD",
        "colab_type": "code",
        "colab": {
          "base_uri": "https://localhost:8080/",
          "height": 35
        },
        "outputId": "fb077030-6701-4076-b7b5-0b5df0b7a2c1"
      },
      "source": [
        "pp.get_position_value()"
      ],
      "execution_count": 39,
      "outputs": [
        {
          "output_type": "execute_result",
          "data": {
            "text/plain": [
              "1050"
            ]
          },
          "metadata": {
            "tags": []
          },
          "execution_count": 39
        }
      ]
    },
    {
      "cell_type": "code",
      "metadata": {
        "id": "0LeL6c_N_urW",
        "colab_type": "code",
        "colab": {}
      },
      "source": [
        "class Vector(object):\n",
        "    def __init__(self, x=0, y=0, z=0):\n",
        "        self.x = x\n",
        "        self.y = y\n",
        "        self.z = z"
      ],
      "execution_count": 0,
      "outputs": []
    },
    {
      "cell_type": "code",
      "metadata": {
        "id": "lav2DDVI_-pz",
        "colab_type": "code",
        "colab": {}
      },
      "source": [
        "v = Vector(1,2,3)"
      ],
      "execution_count": 0,
      "outputs": []
    },
    {
      "cell_type": "code",
      "metadata": {
        "id": "Eb-YafWuACvB",
        "colab_type": "code",
        "colab": {
          "base_uri": "https://localhost:8080/",
          "height": 35
        },
        "outputId": "7f0fbbc3-4e03-492e-a0ae-d5a00254ab90"
      },
      "source": [
        "v"
      ],
      "execution_count": 42,
      "outputs": [
        {
          "output_type": "execute_result",
          "data": {
            "text/plain": [
              "<__main__.Vector at 0x7f94bf64d860>"
            ]
          },
          "metadata": {
            "tags": []
          },
          "execution_count": 42
        }
      ]
    },
    {
      "cell_type": "code",
      "metadata": {
        "id": "gjwwCtqrAHWh",
        "colab_type": "code",
        "colab": {}
      },
      "source": [
        "class Vector(Vector):\n",
        "    def __repr__(self):\n",
        "        return 'Vector(%r, %r, %r)' % (self.x, self.y, self.z)"
      ],
      "execution_count": 0,
      "outputs": []
    },
    {
      "cell_type": "code",
      "metadata": {
        "id": "nDcLrn0jAVVs",
        "colab_type": "code",
        "colab": {}
      },
      "source": [
        "v = Vector(1, 2, 3)"
      ],
      "execution_count": 0,
      "outputs": []
    },
    {
      "cell_type": "code",
      "metadata": {
        "id": "qyp2D1I_AYJI",
        "colab_type": "code",
        "colab": {
          "base_uri": "https://localhost:8080/",
          "height": 35
        },
        "outputId": "5e3bc880-c46d-44ec-bcf7-d4af064767ac"
      },
      "source": [
        "v"
      ],
      "execution_count": 50,
      "outputs": [
        {
          "output_type": "execute_result",
          "data": {
            "text/plain": [
              "Vector(1, 2, 3)"
            ]
          },
          "metadata": {
            "tags": []
          },
          "execution_count": 50
        }
      ]
    },
    {
      "cell_type": "code",
      "metadata": {
        "id": "OpqLCTl0ApMe",
        "colab_type": "code",
        "colab": {}
      },
      "source": [
        "class Vector(Vector):\n",
        "    def __abs__(self):\n",
        "        return(self.x ** 2 + self.y ** 2 +\n",
        "self.z ** 2) ** 0.5\n",
        "    def __bool__(self):\n",
        "        return bool(abs(self))"
      ],
      "execution_count": 0,
      "outputs": []
    },
    {
      "cell_type": "code",
      "metadata": {
        "id": "HJgxqLZeBwIO",
        "colab_type": "code",
        "colab": {}
      },
      "source": [
        "v = Vector(1, 2, 3)"
      ],
      "execution_count": 0,
      "outputs": []
    },
    {
      "cell_type": "code",
      "metadata": {
        "id": "aVznzODtBxZq",
        "colab_type": "code",
        "colab": {
          "base_uri": "https://localhost:8080/",
          "height": 35
        },
        "outputId": "36f99ffd-91fc-4676-9d8f-9999e6913e62"
      },
      "source": [
        "abs(v)"
      ],
      "execution_count": 78,
      "outputs": [
        {
          "output_type": "execute_result",
          "data": {
            "text/plain": [
              "3.7416573867739413"
            ]
          },
          "metadata": {
            "tags": []
          },
          "execution_count": 78
        }
      ]
    },
    {
      "cell_type": "code",
      "metadata": {
        "id": "lq5ffJT7Byzm",
        "colab_type": "code",
        "colab": {
          "base_uri": "https://localhost:8080/",
          "height": 35
        },
        "outputId": "d855489a-22f8-4639-9514-558c4c53528b"
      },
      "source": [
        "v = Vector(0, 0, 0)\n",
        "abs(v)"
      ],
      "execution_count": 79,
      "outputs": [
        {
          "output_type": "execute_result",
          "data": {
            "text/plain": [
              "0.0"
            ]
          },
          "metadata": {
            "tags": []
          },
          "execution_count": 79
        }
      ]
    },
    {
      "cell_type": "code",
      "metadata": {
        "id": "DhASoJ_GB2AV",
        "colab_type": "code",
        "colab": {
          "base_uri": "https://localhost:8080/",
          "height": 35
        },
        "outputId": "1ca1e579-a346-4dde-af00-db3eab6d7f59"
      },
      "source": [
        "bool(v)"
      ],
      "execution_count": 80,
      "outputs": [
        {
          "output_type": "execute_result",
          "data": {
            "text/plain": [
              "False"
            ]
          },
          "metadata": {
            "tags": []
          },
          "execution_count": 80
        }
      ]
    },
    {
      "cell_type": "code",
      "metadata": {
        "id": "O645R099DDEC",
        "colab_type": "code",
        "colab": {}
      },
      "source": [
        "class Vector(Vector):\n",
        "    def __add__(self, other):\n",
        "        x = self.x + other.x\n",
        "        y = self.y + other.y\n",
        "        z = self.z + other.z\n",
        "        return Vector(x, y, z)\n",
        "    def __mul__(self, scalar):\n",
        "        return Vector(self.x * scalar,\n",
        "        self.y * scalar,\n",
        "        self.z * scalar)"
      ],
      "execution_count": 0,
      "outputs": []
    },
    {
      "cell_type": "code",
      "metadata": {
        "id": "v3lr6kpjDIUX",
        "colab_type": "code",
        "colab": {}
      },
      "source": [
        "v = Vector(1,2,3)"
      ],
      "execution_count": 0,
      "outputs": []
    },
    {
      "cell_type": "code",
      "metadata": {
        "id": "sDodD3jGDLYn",
        "colab_type": "code",
        "colab": {
          "base_uri": "https://localhost:8080/",
          "height": 35
        },
        "outputId": "cb4a3789-2e98-4d2d-feb1-3efacff993c8"
      },
      "source": [
        "v + v"
      ],
      "execution_count": 98,
      "outputs": [
        {
          "output_type": "execute_result",
          "data": {
            "text/plain": [
              "Vector(2, 4, 6)"
            ]
          },
          "metadata": {
            "tags": []
          },
          "execution_count": 98
        }
      ]
    },
    {
      "cell_type": "code",
      "metadata": {
        "id": "JhT79VITDNB9",
        "colab_type": "code",
        "colab": {
          "base_uri": "https://localhost:8080/",
          "height": 35
        },
        "outputId": "a4c007a0-1b3f-40cb-9afc-2f2b9ab4cd40"
      },
      "source": [
        "v * 2"
      ],
      "execution_count": 99,
      "outputs": [
        {
          "output_type": "execute_result",
          "data": {
            "text/plain": [
              "Vector(2, 4, 6)"
            ]
          },
          "metadata": {
            "tags": []
          },
          "execution_count": 99
        }
      ]
    },
    {
      "cell_type": "code",
      "metadata": {
        "id": "HMMe_vWND6Ex",
        "colab_type": "code",
        "colab": {}
      },
      "source": [
        "class Vector(Vector):\n",
        "    def __len__(self):\n",
        "        return 3\n",
        "    def __getitem__(self, i):\n",
        "        if i in [0, -3]: return self.x\n",
        "        elif i in [1, -2]: return self.y\n",
        "        elif i in [2, -1]: return self.z\n",
        "        else: raise IndexError('Index out of range.')"
      ],
      "execution_count": 0,
      "outputs": []
    },
    {
      "cell_type": "code",
      "metadata": {
        "id": "G6Xju8LbD5-M",
        "colab_type": "code",
        "colab": {}
      },
      "source": [
        "v = Vector(1,2,3)"
      ],
      "execution_count": 0,
      "outputs": []
    },
    {
      "cell_type": "code",
      "metadata": {
        "id": "kPXsC61fEWWf",
        "colab_type": "code",
        "colab": {
          "base_uri": "https://localhost:8080/",
          "height": 35
        },
        "outputId": "5e561ff6-aa99-4a2c-8b66-1001d435f87a"
      },
      "source": [
        "v[-1]"
      ],
      "execution_count": 110,
      "outputs": [
        {
          "output_type": "execute_result",
          "data": {
            "text/plain": [
              "3"
            ]
          },
          "metadata": {
            "tags": []
          },
          "execution_count": 110
        }
      ]
    }
  ]
}