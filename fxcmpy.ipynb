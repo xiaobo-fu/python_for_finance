{
  "nbformat": 4,
  "nbformat_minor": 0,
  "metadata": {
    "colab": {
      "name": "fxcmpy.ipynb",
      "version": "0.3.2",
      "provenance": [],
      "collapsed_sections": [],
      "include_colab_link": true
    },
    "kernelspec": {
      "name": "python3",
      "display_name": "Python 3"
    }
  },
  "cells": [
    {
      "cell_type": "markdown",
      "metadata": {
        "id": "view-in-github",
        "colab_type": "text"
      },
      "source": [
        "<a href=\"https://colab.research.google.com/github/xiaobo-fu/python_for_finance/blob/master/fxcmpy.ipynb\" target=\"_parent\"><img src=\"https://colab.research.google.com/assets/colab-badge.svg\" alt=\"Open In Colab\"/></a>"
      ]
    },
    {
      "cell_type": "code",
      "metadata": {
        "id": "KeRFkCKd_Pa2",
        "colab_type": "code",
        "colab": {
          "base_uri": "https://localhost:8080/",
          "height": 34
        },
        "outputId": "a49023f5-541b-419d-cda3-1d543c5da987"
      },
      "source": [
        "# To support both python 2 and python 3\n",
        "from __future__ import division, print_function, unicode_literals\n",
        "\n",
        "# Common imports\n",
        "import numpy as np\n",
        "import os\n",
        "\n",
        "# to make this notebook's output stable across runs\n",
        "np.random.seed(42)\n",
        "\n",
        "# To plot pretty figures\n",
        "%matplotlib inline\n",
        "import matplotlib as mpl\n",
        "import matplotlib.pyplot as plt\n",
        "mpl.rc('axes', labelsize=14)\n",
        "mpl.rc('xtick', labelsize=12)\n",
        "mpl.rc('ytick', labelsize=12)\n",
        "\n",
        "# Where to save the figures\n",
        "PROJECT_ROOT_DIR = \"/content/gdrive/My Drive/G/ML/python_for_finance/source/\"\n",
        "CHAPTER_ID = \"python_for_finance\"\n",
        "IMAGES_PATH = os.path.join(PROJECT_ROOT_DIR, \"images\", CHAPTER_ID)\n",
        "\n",
        "def save_fig(fig_id, tight_layout=True, fig_extension=\"png\", resolution=300):\n",
        "    path = os.path.join(IMAGES_PATH, fig_id + \".\" + fig_extension)\n",
        "    print(\"Saving figure\", fig_id)\n",
        "    if not os.path.isdir(IMAGES_PATH):\n",
        "        os.makedirs(IMAGES_PATH)\n",
        "    if tight_layout:\n",
        "        plt.tight_layout()\n",
        "    plt.savefig(path, format=fig_extension, dpi=resolution)\n",
        "\n",
        "# Ignore useless warnings (see SciPy issue #5998)\n",
        "import warnings\n",
        "warnings.filterwarnings(action=\"ignore\", message=\"^internal gelsd\")\n",
        "\n",
        "from google.colab import drive\n",
        "drive.mount('/content/gdrive')"
      ],
      "execution_count": 376,
      "outputs": [
        {
          "output_type": "stream",
          "text": [
            "Drive already mounted at /content/gdrive; to attempt to forcibly remount, call drive.mount(\"/content/gdrive\", force_remount=True).\n"
          ],
          "name": "stdout"
        }
      ]
    },
    {
      "cell_type": "code",
      "metadata": {
        "id": "9cuJfuRDJrr8",
        "colab_type": "code",
        "colab": {}
      },
      "source": [
        "import math\n",
        "import time\n",
        "import numpy as np\n",
        "import pandas as pd\n",
        "import datetime as dt\n",
        "import cufflinks as cf\n",
        "from pylab import plt\n",
        "np.random.seed(1000)\n",
        "plt.style.use('seaborn')\n",
        "%matplotlib inline"
      ],
      "execution_count": 0,
      "outputs": []
    },
    {
      "cell_type": "code",
      "metadata": {
        "id": "Vxw26Nh-tY-U",
        "colab_type": "code",
        "colab": {}
      },
      "source": [
        "from sklearn.svm import SVC\n",
        "from sklearn.metrics import accuracy_score\n",
        "from sklearn.neural_network import MLPClassifier\n",
        "from sklearn.model_selection import train_test_split"
      ],
      "execution_count": 0,
      "outputs": []
    },
    {
      "cell_type": "code",
      "metadata": {
        "id": "7tgQWCGA_b6w",
        "colab_type": "code",
        "colab": {}
      },
      "source": [
        "pip install fxcmpy"
      ],
      "execution_count": 0,
      "outputs": []
    },
    {
      "cell_type": "code",
      "metadata": {
        "id": "vRL-1bjg_mXn",
        "colab_type": "code",
        "colab": {}
      },
      "source": [
        "import fxcmpy\n",
        "token = open('/content/gdrive/My Drive/G/ML/python_for_finance/token.txt').read() \n",
        "con = fxcmpy.fxcmpy(access_token=token, log_level='error')"
      ],
      "execution_count": 0,
      "outputs": []
    },
    {
      "cell_type": "code",
      "metadata": {
        "id": "7QxXWpi6_xMX",
        "colab_type": "code",
        "outputId": "50056662-15ac-455f-be14-eefb5623c96d",
        "colab": {
          "base_uri": "https://localhost:8080/",
          "height": 54
        }
      },
      "source": [
        "print(con.get_instruments())"
      ],
      "execution_count": 381,
      "outputs": [
        {
          "output_type": "stream",
          "text": [
            "['EUR/USD', 'USD/JPY', 'GBP/USD', 'USD/CHF', 'EUR/CHF', 'AUD/USD', 'USD/CAD', 'NZD/USD', 'EUR/GBP', 'EUR/JPY', 'GBP/JPY', 'CHF/JPY', 'GBP/CHF', 'EUR/AUD', 'EUR/CAD', 'AUD/CAD', 'AUD/JPY', 'CAD/JPY', 'NZD/JPY', 'GBP/CAD', 'GBP/NZD', 'GBP/AUD', 'AUD/NZD', 'USD/SEK', 'EUR/SEK', 'EUR/NOK', 'USD/NOK', 'USD/MXN', 'AUD/CHF', 'EUR/NZD', 'USD/ZAR', 'USD/HKD', 'ZAR/JPY', 'USD/TRY', 'EUR/TRY', 'NZD/CHF', 'CAD/CHF', 'NZD/CAD', 'TRY/JPY', 'USD/CNH', 'AUS200', 'ESP35', 'FRA40', 'GER30', 'HKG33', 'JPN225', 'NAS100', 'SPX500', 'UK100', 'US30', 'Copper', 'CHN50', 'EUSTX50', 'USDOLLAR', 'US2000', 'USOil', 'UKOil', 'SOYF', 'NGAS', 'WHEATF', 'CORNF', 'Bund', 'XAU/USD', 'XAG/USD', 'EMBasket', 'JPYBasket', 'BTC/USD', 'BCH/USD', 'ETH/USD', 'LTC/USD', 'XRP/USD']\n"
          ],
          "name": "stdout"
        }
      ]
    },
    {
      "cell_type": "code",
      "metadata": {
        "id": "qdP0gGi7_5us",
        "colab_type": "code",
        "outputId": "84b4d036-18a3-4598-9996-114ebe72ee3c",
        "colab": {
          "base_uri": "https://localhost:8080/",
          "height": 142
        }
      },
      "source": [
        "data = con.get_candles('EUR/USD', period='m1', number=250)\n",
        "data.tail(2)"
      ],
      "execution_count": 382,
      "outputs": [
        {
          "output_type": "execute_result",
          "data": {
            "text/html": [
              "<div>\n",
              "<style scoped>\n",
              "    .dataframe tbody tr th:only-of-type {\n",
              "        vertical-align: middle;\n",
              "    }\n",
              "\n",
              "    .dataframe tbody tr th {\n",
              "        vertical-align: top;\n",
              "    }\n",
              "\n",
              "    .dataframe thead th {\n",
              "        text-align: right;\n",
              "    }\n",
              "</style>\n",
              "<table border=\"1\" class=\"dataframe\">\n",
              "  <thead>\n",
              "    <tr style=\"text-align: right;\">\n",
              "      <th></th>\n",
              "      <th>bidopen</th>\n",
              "      <th>bidclose</th>\n",
              "      <th>bidhigh</th>\n",
              "      <th>bidlow</th>\n",
              "      <th>askopen</th>\n",
              "      <th>askclose</th>\n",
              "      <th>askhigh</th>\n",
              "      <th>asklow</th>\n",
              "      <th>tickqty</th>\n",
              "    </tr>\n",
              "    <tr>\n",
              "      <th>date</th>\n",
              "      <th></th>\n",
              "      <th></th>\n",
              "      <th></th>\n",
              "      <th></th>\n",
              "      <th></th>\n",
              "      <th></th>\n",
              "      <th></th>\n",
              "      <th></th>\n",
              "      <th></th>\n",
              "    </tr>\n",
              "  </thead>\n",
              "  <tbody>\n",
              "    <tr>\n",
              "      <th>2019-05-22 17:59:00</th>\n",
              "      <td>1.11607</td>\n",
              "      <td>1.11604</td>\n",
              "      <td>1.11611</td>\n",
              "      <td>1.11602</td>\n",
              "      <td>1.11613</td>\n",
              "      <td>1.11618</td>\n",
              "      <td>1.11623</td>\n",
              "      <td>1.11609</td>\n",
              "      <td>164</td>\n",
              "    </tr>\n",
              "    <tr>\n",
              "      <th>2019-05-22 18:00:00</th>\n",
              "      <td>1.11605</td>\n",
              "      <td>1.11596</td>\n",
              "      <td>1.11607</td>\n",
              "      <td>1.11568</td>\n",
              "      <td>1.11618</td>\n",
              "      <td>1.11602</td>\n",
              "      <td>1.11620</td>\n",
              "      <td>1.11574</td>\n",
              "      <td>361</td>\n",
              "    </tr>\n",
              "  </tbody>\n",
              "</table>\n",
              "</div>"
            ],
            "text/plain": [
              "                     bidopen  bidclose  bidhigh  ...  askhigh   asklow  tickqty\n",
              "date                                             ...                           \n",
              "2019-05-22 17:59:00  1.11607   1.11604  1.11611  ...  1.11623  1.11609      164\n",
              "2019-05-22 18:00:00  1.11605   1.11596  1.11607  ...  1.11620  1.11574      361\n",
              "\n",
              "[2 rows x 9 columns]"
            ]
          },
          "metadata": {
            "tags": []
          },
          "execution_count": 382
        }
      ]
    },
    {
      "cell_type": "code",
      "metadata": {
        "id": "XqaRHVp3ARe3",
        "colab_type": "code",
        "outputId": "6674ac8f-74a4-4906-898f-a5b986f5ec26",
        "colab": {
          "base_uri": "https://localhost:8080/",
          "height": 34
        }
      },
      "source": [
        "con.is_connected()"
      ],
      "execution_count": 383,
      "outputs": [
        {
          "output_type": "execute_result",
          "data": {
            "text/plain": [
              "True"
            ]
          },
          "metadata": {
            "tags": []
          },
          "execution_count": 383
        }
      ]
    },
    {
      "cell_type": "code",
      "metadata": {
        "id": "FsKoZRLeAW53",
        "colab_type": "code",
        "outputId": "d29df24e-007f-4566-a01b-f8f0d42dc493",
        "colab": {
          "base_uri": "https://localhost:8080/",
          "height": 34
        }
      },
      "source": [
        "con.get_account_ids()"
      ],
      "execution_count": 384,
      "outputs": [
        {
          "output_type": "execute_result",
          "data": {
            "text/plain": [
              "[717255]"
            ]
          },
          "metadata": {
            "tags": []
          },
          "execution_count": 384
        }
      ]
    },
    {
      "cell_type": "code",
      "metadata": {
        "id": "OYpJ9mTKBJEi",
        "colab_type": "code",
        "colab": {}
      },
      "source": [
        "con.subscribe_market_data('EUR/USD')"
      ],
      "execution_count": 0,
      "outputs": []
    },
    {
      "cell_type": "code",
      "metadata": {
        "id": "TRv2CzRZBL4u",
        "colab_type": "code",
        "outputId": "2efbb2e6-3c68-4750-d94e-2c2cd3bcbb50",
        "colab": {
          "base_uri": "https://localhost:8080/",
          "height": 34
        }
      },
      "source": [
        "con.get_subscribed_symbols()"
      ],
      "execution_count": 386,
      "outputs": [
        {
          "output_type": "execute_result",
          "data": {
            "text/plain": [
              "['EUR/USD']"
            ]
          },
          "metadata": {
            "tags": []
          },
          "execution_count": 386
        }
      ]
    },
    {
      "cell_type": "code",
      "metadata": {
        "id": "HZl1JZz1BNqR",
        "colab_type": "code",
        "outputId": "9a540579-89ac-4ca0-9c48-f9950e145e15",
        "colab": {
          "base_uri": "https://localhost:8080/",
          "height": 34
        }
      },
      "source": [
        "con.is_subscribed('EUR/USD')"
      ],
      "execution_count": 387,
      "outputs": [
        {
          "output_type": "execute_result",
          "data": {
            "text/plain": [
              "True"
            ]
          },
          "metadata": {
            "tags": []
          },
          "execution_count": 387
        }
      ]
    },
    {
      "cell_type": "code",
      "metadata": {
        "id": "BLNK0ZdxBQ2Y",
        "colab_type": "code",
        "outputId": "82b7640e-2529-4aa7-e262-4b8d588bd287",
        "colab": {
          "base_uri": "https://localhost:8080/",
          "height": 80
        }
      },
      "source": [
        "con.get_prices('EUR/USD').head()"
      ],
      "execution_count": 388,
      "outputs": [
        {
          "output_type": "execute_result",
          "data": {
            "text/html": [
              "<div>\n",
              "<style scoped>\n",
              "    .dataframe tbody tr th:only-of-type {\n",
              "        vertical-align: middle;\n",
              "    }\n",
              "\n",
              "    .dataframe tbody tr th {\n",
              "        vertical-align: top;\n",
              "    }\n",
              "\n",
              "    .dataframe thead th {\n",
              "        text-align: right;\n",
              "    }\n",
              "</style>\n",
              "<table border=\"1\" class=\"dataframe\">\n",
              "  <thead>\n",
              "    <tr style=\"text-align: right;\">\n",
              "      <th></th>\n",
              "      <th>Bid</th>\n",
              "      <th>Ask</th>\n",
              "      <th>High</th>\n",
              "      <th>Low</th>\n",
              "    </tr>\n",
              "  </thead>\n",
              "  <tbody>\n",
              "    <tr>\n",
              "      <th>2019-05-22 18:01:17.945</th>\n",
              "      <td>1.11592</td>\n",
              "      <td>1.11597</td>\n",
              "      <td>1.11806</td>\n",
              "      <td>1.11484</td>\n",
              "    </tr>\n",
              "  </tbody>\n",
              "</table>\n",
              "</div>"
            ],
            "text/plain": [
              "                             Bid      Ask     High      Low\n",
              "2019-05-22 18:01:17.945  1.11592  1.11597  1.11806  1.11484"
            ]
          },
          "metadata": {
            "tags": []
          },
          "execution_count": 388
        }
      ]
    },
    {
      "cell_type": "code",
      "metadata": {
        "id": "vb_WCxyxBgA4",
        "colab_type": "code",
        "outputId": "f1bd83f3-8bff-4643-dcf2-1fee3adb8329",
        "colab": {
          "base_uri": "https://localhost:8080/",
          "height": 102
        }
      },
      "source": [
        "con.get_last_price('EUR/USD')"
      ],
      "execution_count": 389,
      "outputs": [
        {
          "output_type": "execute_result",
          "data": {
            "text/plain": [
              "Bid     1.11592\n",
              "Ask     1.11597\n",
              "High    1.11806\n",
              "Low     1.11484\n",
              "Name: 2019-05-22 18:01:17.945000, dtype: float64"
            ]
          },
          "metadata": {
            "tags": []
          },
          "execution_count": 389
        }
      ]
    },
    {
      "cell_type": "code",
      "metadata": {
        "id": "OG1MV-AqBsR6",
        "colab_type": "code",
        "outputId": "7f4ec8e1-2a0f-4f72-b592-6625cdd15c0d",
        "colab": {
          "base_uri": "https://localhost:8080/",
          "height": 34
        }
      },
      "source": [
        "con.get_max_prices()"
      ],
      "execution_count": 390,
      "outputs": [
        {
          "output_type": "execute_result",
          "data": {
            "text/plain": [
              "10000"
            ]
          },
          "metadata": {
            "tags": []
          },
          "execution_count": 390
        }
      ]
    },
    {
      "cell_type": "code",
      "metadata": {
        "id": "BeebpPlcBvwo",
        "colab_type": "code",
        "colab": {}
      },
      "source": [
        "con.set_max_prices(100000)"
      ],
      "execution_count": 0,
      "outputs": []
    },
    {
      "cell_type": "code",
      "metadata": {
        "colab_type": "code",
        "outputId": "27eec3de-ae9d-4e14-aeee-abb3fedb7937",
        "id": "nsDp5tKUVKV8",
        "colab": {
          "base_uri": "https://localhost:8080/",
          "height": 333
        }
      },
      "source": [
        "plt.plot(con.get_prices('EUR/USD'))"
      ],
      "execution_count": 392,
      "outputs": [
        {
          "output_type": "execute_result",
          "data": {
            "text/plain": [
              "[<matplotlib.lines.Line2D at 0x7f2153ad2d68>,\n",
              " <matplotlib.lines.Line2D at 0x7f2152a754e0>,\n",
              " <matplotlib.lines.Line2D at 0x7f2152a75710>,\n",
              " <matplotlib.lines.Line2D at 0x7f2152a75898>]"
            ]
          },
          "metadata": {
            "tags": []
          },
          "execution_count": 392
        },
        {
          "output_type": "display_data",
          "data": {
            "image/png": "[encoded data removed]",
            "text/plain": [
              "<Figure size 432x288 with 1 Axes>"
            ]
          },
          "metadata": {
            "tags": []
          }
        }
      ]
    },
    {
      "cell_type": "code",
      "metadata": {
        "id": "gqsQ9Se9tSjK",
        "colab_type": "code",
        "colab": {}
      },
      "source": [
        "data = con.get_candles('GBP/USD', period='D1', number=5000)"
      ],
      "execution_count": 0,
      "outputs": []
    },
    {
      "cell_type": "code",
      "metadata": {
        "id": "eCw3wCqXtcDX",
        "colab_type": "code",
        "colab": {}
      },
      "source": [
        "def datappr(data,lags):\n",
        "    data['returns'] = np.log(data['bidclose'] / data['bidclose'].shift(1))\n",
        "    data.dropna(inplace=True)\n",
        "    global cols\n",
        "    cols = []\n",
        "    \n",
        "    for lag in range(1, lags + 1):\n",
        "        col = 'lag_{}'.format(lag)\n",
        "        data[col] = data['returns'].shift(lag)\n",
        "        cols.append(col)\n",
        "    \n",
        "    data.dropna(inplace=True)\n",
        "\n",
        "    data[cols] = np.where(data[cols] > 0, 1, -1)\n",
        "\n",
        "    data['direction'] = np.where(data['returns'] > 0, 1, -1)\n",
        "\n",
        "    mu = data['returns'].mean()\n",
        "    v = data['returns'].std()\n",
        "    bins = [mu - v, mu, mu + v]\n",
        "    \n",
        "    global cols_bin\n",
        "    cols_bin = []\n",
        "    for col in cols:\n",
        "        col_bin = col + '_bin'\n",
        "        data[col_bin] = np.digitize(data[col], bins=bins)\n",
        "        cols_bin.append(col_bin)"
      ],
      "execution_count": 0,
      "outputs": []
    },
    {
      "cell_type": "code",
      "metadata": {
        "id": "QMSLRDpxtldn",
        "colab_type": "code",
        "colab": {}
      },
      "source": [
        "datappr(data,12)"
      ],
      "execution_count": 0,
      "outputs": []
    },
    {
      "cell_type": "code",
      "metadata": {
        "id": "gXPU8x__7kj1",
        "colab_type": "code",
        "colab": {
          "base_uri": "https://localhost:8080/",
          "height": 85
        },
        "outputId": "f57a469e-4066-41ae-eca9-715b4b329f50"
      },
      "source": [
        "SMA = np.arange(3, 365, 7)\n",
        "SMA"
      ],
      "execution_count": 667,
      "outputs": [
        {
          "output_type": "execute_result",
          "data": {
            "text/plain": [
              "array([  3,  10,  17,  24,  31,  38,  45,  52,  59,  66,  73,  80,  87,\n",
              "        94, 101, 108, 115, 122, 129, 136, 143, 150, 157, 164, 171, 178,\n",
              "       185, 192, 199, 206, 213, 220, 227, 234, 241, 248, 255, 262, 269,\n",
              "       276, 283, 290, 297, 304, 311, 318, 325, 332, 339, 346, 353, 360])"
            ]
          },
          "metadata": {
            "tags": []
          },
          "execution_count": 667
        }
      ]
    },
    {
      "cell_type": "code",
      "metadata": {
        "id": "IlOJxat17pPj",
        "colab_type": "code",
        "colab": {}
      },
      "source": [
        "MA = []\n",
        "for i in SMA:\n",
        "    global MA\n",
        "    data[str(i)] = data['bidclose'].rolling(i).mean()\n",
        "    MA.append(str(i))"
      ],
      "execution_count": 0,
      "outputs": []
    },
    {
      "cell_type": "code",
      "metadata": {
        "id": "EY8V_PDJAZLE",
        "colab_type": "code",
        "colab": {}
      },
      "source": [
        "data.dropna(inplace=True)"
      ],
      "execution_count": 0,
      "outputs": []
    },
    {
      "cell_type": "code",
      "metadata": {
        "id": "fIhuI7Gd9VeV",
        "colab_type": "code",
        "colab": {}
      },
      "source": [
        "MA_States = []\n",
        "for i in SMA:\n",
        "    for j in range(i,SMA[-1]+1,7):\n",
        "        MA_State = str(i) +':' +str(j)\n",
        "        data[MA_State] = np.where(data[str(i)] < data[str(j)], 1, -1)\n",
        "        MA_States.append(MA_State)        "
      ],
      "execution_count": 0,
      "outputs": []
    },
    {
      "cell_type": "code",
      "metadata": {
        "id": "lxHvRTtH7Qxe",
        "colab_type": "code",
        "colab": {}
      },
      "source": [
        "data.head(20)"
      ],
      "execution_count": 0,
      "outputs": []
    },
    {
      "cell_type": "code",
      "metadata": {
        "id": "iIaAa_Uqtg3L",
        "colab_type": "code",
        "colab": {}
      },
      "source": [
        "train, test = train_test_split(data, test_size=0.5, shuffle=False, random_state=42)\n",
        "model = MLPClassifier(solver='lbfgs', alpha=1e-5, hidden_layer_sizes=2 * [250], random_state=1)\n",
        "model.fit(train[cols_bin + MA_States], train['direction'])\n",
        "test['position'] = model.predict(test[cols_bin+MA_States])\n",
        "test['confidence'] = model.predict_proba(test[cols_bin+MA_States]).T[1]"
      ],
      "execution_count": 0,
      "outputs": []
    },
    {
      "cell_type": "code",
      "metadata": {
        "id": "cVBxY8M5G68k",
        "colab_type": "code",
        "colab": {
          "base_uri": "https://localhost:8080/",
          "height": 136
        },
        "outputId": "c0130bb3-f72d-4c5c-cf04-c85421455b89"
      },
      "source": [
        "train, test = train_test_split(data, test_size=0.5, shuffle=False, random_state=42)\n",
        "model = MLPClassifier(solver='lbfgs', alpha=1e-5, hidden_layer_sizes=2 * [250], random_state=1)\n",
        "model.fit(train[cols_bin], train['direction'])"
      ],
      "execution_count": 672,
      "outputs": [
        {
          "output_type": "execute_result",
          "data": {
            "text/plain": [
              "MLPClassifier(activation='relu', alpha=1e-05, batch_size='auto', beta_1=0.9,\n",
              "              beta_2=0.999, early_stopping=False, epsilon=1e-08,\n",
              "              hidden_layer_sizes=[250, 250], learning_rate='constant',\n",
              "              learning_rate_init=0.001, max_iter=200, momentum=0.9,\n",
              "              n_iter_no_change=10, nesterovs_momentum=True, power_t=0.5,\n",
              "              random_state=1, shuffle=True, solver='lbfgs', tol=0.0001,\n",
              "              validation_fraction=0.1, verbose=False, warm_start=False)"
            ]
          },
          "metadata": {
            "tags": []
          },
          "execution_count": 672
        }
      ]
    },
    {
      "cell_type": "code",
      "metadata": {
        "id": "q3yKW5yWtuWc",
        "colab_type": "code",
        "colab": {
          "base_uri": "https://localhost:8080/",
          "height": 391
        },
        "outputId": "5dc701e1-c880-4008-8b2f-8c549a0e9598"
      },
      "source": [
        "test['confidence'] = model.predict_proba(test[cols_bin+MA_States]).T[0]\n",
        "test['strategy'] = test['position'] * test['returns'] * (test['confidence'])\n",
        "fig = plt.figure(figsize =(10,6))\n",
        "plt.plot(test['strategy'].cumsum())\n",
        "test['strategy'] = test['position'] * test['returns']\n",
        "plt.plot(test['strategy'].cumsum(), '--r')\n",
        "plt.plot(test['bidclose'])"
      ],
      "execution_count": 682,
      "outputs": [
        {
          "output_type": "execute_result",
          "data": {
            "text/plain": [
              "[<matplotlib.lines.Line2D at 0x7f214998fb70>]"
            ]
          },
          "metadata": {
            "tags": []
          },
          "execution_count": 682
        },
        {
          "output_type": "display_data",
          "data": {
            "image/png": "[encoded data removed]",
            "text/plain": [
              "<Figure size 720x432 with 1 Axes>"
            ]
          },
          "metadata": {
            "tags": []
          }
        }
      ]
    },
    {
      "cell_type": "code",
      "metadata": {
        "id": "kPslGVGKHBXM",
        "colab_type": "code",
        "colab": {
          "base_uri": "https://localhost:8080/",
          "height": 391
        },
        "outputId": "47f50ee5-052b-4a6d-edda-a959d45d2f7e"
      },
      "source": [
        "test['position'] = model.predict(test[cols_bin])\n",
        "test['confidence'] = model.predict_proba(test[cols_bin]).T[1]\n",
        "test['strategy'] = test['position'] * test['returns'] * (test['confidence'])\n",
        "fig = plt.figure(figsize =(10,6))\n",
        "plt.plot(test['strategy'].cumsum())\n",
        "test['strategy'] = test['position'] * test['returns']\n",
        "plt.plot(test['strategy'].cumsum(), '--r')"
      ],
      "execution_count": 673,
      "outputs": [
        {
          "output_type": "execute_result",
          "data": {
            "text/plain": [
              "[<matplotlib.lines.Line2D at 0x7f21498b2278>]"
            ]
          },
          "metadata": {
            "tags": []
          },
          "execution_count": 673
        },
        {
          "output_type": "display_data",
          "data": {
            "image/png": "[encoded data removed]",
            "text/plain": [
              "<Figure size 720x432 with 1 Axes>"
            ]
          },
          "metadata": {
            "tags": []
          }
        }
      ]
    }
  ]
}