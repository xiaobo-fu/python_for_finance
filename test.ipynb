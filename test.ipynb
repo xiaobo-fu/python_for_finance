{
  "nbformat": 4,
  "nbformat_minor": 0,
  "metadata": {
    "colab": {
      "name": "test.ipynb",
      "version": "0.3.2",
      "provenance": [],
      "include_colab_link": true
    },
    "kernelspec": {
      "name": "python3",
      "display_name": "Python 3"
    }
  },
  "cells": [
    {
      "cell_type": "markdown",
      "metadata": {
        "id": "view-in-github",
        "colab_type": "text"
      },
      "source": [
        "<a href=\"https://colab.research.google.com/github/xiaobo-fu/python_for_finance/blob/master/test.ipynb\" target=\"_parent\"><img src=\"https://colab.research.google.com/assets/colab-badge.svg\" alt=\"Open In Colab\"/></a>"
      ]
    },
    {
      "cell_type": "code",
      "metadata": {
        "id": "WiM-rBRqHvEu",
        "colab_type": "code",
        "colab": {
          "base_uri": "https://localhost:8080/",
          "height": 122
        },
        "outputId": "a6edd13b-db1c-46ad-a260-0150f1ffcd77"
      },
      "source": [
        "# To support both python 2 and python 3\n",
        "from __future__ import division, print_function, unicode_literals\n",
        "\n",
        "# Common imports\n",
        "import numpy as np\n",
        "import os\n",
        "\n",
        "# to make this notebook's output stable across runs\n",
        "np.random.seed(42)\n",
        "\n",
        "# To plot pretty figures\n",
        "%matplotlib inline\n",
        "import matplotlib as mpl\n",
        "import matplotlib.pyplot as plt\n",
        "mpl.rc('axes', labelsize=14)\n",
        "mpl.rc('xtick', labelsize=12)\n",
        "mpl.rc('ytick', labelsize=12)\n",
        "\n",
        "# Where to save the figures\n",
        "PROJECT_ROOT_DIR = \"/content/gdrive/My Drive/G/ML/python_for_finance/source/\"\n",
        "CHAPTER_ID = \"python_for_finance\"\n",
        "IMAGES_PATH = os.path.join(PROJECT_ROOT_DIR, \"images\", CHAPTER_ID)\n",
        "\n",
        "def save_fig(fig_id, tight_layout=True, fig_extension=\"png\", resolution=300):\n",
        "    path = os.path.join(IMAGES_PATH, fig_id + \".\" + fig_extension)\n",
        "    print(\"Saving figure\", fig_id)\n",
        "    if not os.path.isdir(IMAGES_PATH):\n",
        "        os.makedirs(IMAGES_PATH)\n",
        "    if tight_layout:\n",
        "        plt.tight_layout()\n",
        "    plt.savefig(path, format=fig_extension, dpi=resolution)\n",
        "\n",
        "# Ignore useless warnings (see SciPy issue #5998)\n",
        "import warnings\n",
        "warnings.filterwarnings(action=\"ignore\", message=\"^internal gelsd\")\n",
        "\n",
        "from google.colab import drive\n",
        "drive.mount('/content/gdrive')"
      ],
      "execution_count": 1,
      "outputs": [
        {
          "output_type": "stream",
          "text": [
            "Go to this URL in a browser: https://accounts.google.com/o/oauth2/auth?client_id=947318989803-6bn6qk8qdgf4n4g3pfee6491hc0brc4i.apps.googleusercontent.com&redirect_uri=urn%3Aietf%3Awg%3Aoauth%3A2.0%3Aoob&scope=email%20https%3A%2F%2Fwww.googleapis.com%2Fauth%2Fdocs.test%20https%3A%2F%2Fwww.googleapis.com%2Fauth%2Fdrive%20https%3A%2F%2Fwww.googleapis.com%2Fauth%2Fdrive.photos.readonly%20https%3A%2F%2Fwww.googleapis.com%2Fauth%2Fpeopleapi.readonly&response_type=code\n",
            "\n",
            "Enter your authorization code:\n",
            "··········\n",
            "Mounted at /content/gdrive\n"
          ],
          "name": "stdout"
        }
      ]
    },
    {
      "cell_type": "code",
      "metadata": {
        "id": "-0UivVHgH8mT",
        "colab_type": "code",
        "colab": {}
      },
      "source": [
        "import math\n",
        "import time\n",
        "import numpy as np\n",
        "import pandas as pd\n",
        "import datetime as dt\n",
        "import cufflinks as cf\n",
        "from pylab import plt\n",
        "np.random.seed(1000)\n",
        "plt.style.use('seaborn')\n",
        "%matplotlib inline\n",
        "import random"
      ],
      "execution_count": 0,
      "outputs": []
    },
    {
      "cell_type": "code",
      "metadata": {
        "id": "F2sRT_SeWEaC",
        "colab_type": "code",
        "colab": {}
      },
      "source": [
        "pip install fxcmpy"
      ],
      "execution_count": 0,
      "outputs": []
    },
    {
      "cell_type": "code",
      "metadata": {
        "id": "MWbj9zvCWdcs",
        "colab_type": "code",
        "colab": {}
      },
      "source": [
        "import fxcmpy\n",
        "token = open('/content/gdrive/My Drive/G/ML/python_for_finance/token.txt').read() \n",
        "con = fxcmpy.fxcmpy(access_token=token, log_level='error')"
      ],
      "execution_count": 0,
      "outputs": []
    },
    {
      "cell_type": "code",
      "metadata": {
        "id": "_3GekmC1IA_E",
        "colab_type": "code",
        "colab": {}
      },
      "source": [
        "l = [random.randint(-1,1) for _ in range(10000)]\n",
        "data = pd.DataFrame()\n",
        "data['return'] = l\n",
        "data['bid']=data['return'].cumsum()-0.1\n",
        "data['ask']=data['return'].cumsum()+0.1\n",
        "data['value'] = 0\n",
        "#data.head()\n",
        "\n",
        "global bidprice, askprice, bidposition, askposition\n",
        "bidprice, askprice, bidposition, askposition = 0.0, 0.0, 0, 0\n",
        "for i in range(10000):\n",
        "    if bidposition != 0:\n",
        "        if (bidprice - data['ask'][i] > 9) or (bidprice - data['ask'][i] <= -8):\n",
        "            data['value'][i] += (bidprice - data['ask'][i])\n",
        "            bidposition = 0\n",
        "            #print('bid: %d' %(i), data['value'][i])\n",
        "             \n",
        "    if askposition != 0:\n",
        "        if (data['bid'][i] - askprice > 9) or (data['bid'][i] - askprice <= -8):\n",
        "            data['value'][i] += -(askprice - data['bid'][i])\n",
        "            askposition = 0\n",
        "            #print('ask: %d' %(i), data['value'][i])\n",
        "                       \n",
        "    if (bidposition == 0) and (askposition == 0):\n",
        "        bidposition = 1\n",
        "        askposition = 1\n",
        "        bidprice = data['bid'][i]\n",
        "        askprice = data['ask'][i]\n",
        "        #print(i,bidprice)\n",
        "        #print(data['bid'][i]*data['bid_p'][i])\n",
        "        #data['bid_r'][i] = data['bid'][i]*data['bid_p'][i]\n",
        "        #data['ask_r'][i] = data['ask'][i]*data['ask_p'][i]"
      ],
      "execution_count": 0,
      "outputs": []
    },
    {
      "cell_type": "code",
      "metadata": {
        "id": "hIVE3jGNwiMH",
        "colab_type": "code",
        "colab": {
          "base_uri": "https://localhost:8080/",
          "height": 533
        },
        "outputId": "792a3e00-f98b-46e2-8cbe-33f32e7580a1"
      },
      "source": [
        "plt.plot(data['bid'])\n",
        "plt.show()\n",
        "plt.plot(data['value'].cumsum())"
      ],
      "execution_count": 50,
      "outputs": [
        {
          "output_type": "display_data",
          "data": {
            "image/png": "[encoded data removed]",
            "text/plain": [
              "<Figure size 432x288 with 1 Axes>"
            ]
          },
          "metadata": {
            "tags": []
          }
        },
        {
          "output_type": "execute_result",
          "data": {
            "text/plain": [
              "[<matplotlib.lines.Line2D at 0x7fc2420ee0b8>]"
            ]
          },
          "metadata": {
            "tags": []
          },
          "execution_count": 50
        },
        {
          "output_type": "display_data",
          "data": {
            "image/png": "[encoded data removed]",
            "text/plain": [
              "<Figure size 432x288 with 1 Axes>"
            ]
          },
          "metadata": {
            "tags": []
          }
        }
      ]
    }
  ]
}